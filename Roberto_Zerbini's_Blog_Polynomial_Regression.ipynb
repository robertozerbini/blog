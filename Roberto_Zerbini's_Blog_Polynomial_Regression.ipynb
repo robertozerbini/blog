{
  "nbformat": 4,
  "nbformat_minor": 0,
  "metadata": {
    "colab": {
      "name": "Roberto Zerbini's Blog: Polynomial Regression.ipynb",
      "provenance": [],
      "authorship_tag": "ABX9TyOAbaR6OfYeblrzHo2iz4ks",
      "include_colab_link": true
    },
    "kernelspec": {
      "name": "python3",
      "display_name": "Python 3"
    }
  },
  "cells": [
    {
      "cell_type": "markdown",
      "metadata": {
        "id": "view-in-github",
        "colab_type": "text"
      },
      "source": [
        "<a href=\"https://colab.research.google.com/github/robertozerbini/blog/blob/add-license-1/Roberto_Zerbini's_Blog_Polynomial_Regression.ipynb\" target=\"_parent\"><img src=\"https://colab.research.google.com/assets/colab-badge.svg\" alt=\"Open In Colab\"/></a>"
      ]
    },
    {
      "cell_type": "code",
      "metadata": {
        "id": "QmGBh-PYg8UR"
      },
      "source": [
        "import pandas as pd\n",
        "import matplotlib.pyplot as plt\n",
        "import numpy as np\n",
        "import math \n",
        "import sklearn \n",
        "\n",
        "axes = [-2.5, 2.5, -3.5, 3.5]"
      ],
      "execution_count": null,
      "outputs": []
    },
    {
      "cell_type": "markdown",
      "metadata": {
        "id": "pPf7Vwoy-QIg"
      },
      "source": [
        "#Get Data"
      ]
    },
    {
      "cell_type": "code",
      "metadata": {
        "id": "gwKuk51KhKwl"
      },
      "source": [
        "#generate data\n",
        "def get_data(m):\n",
        "  np.random.seed(3)\n",
        "  X = np.random.randn(m, 1)\n",
        "  y = np.sin(3 * X) + np.random.randn(m, 1) *.5\n",
        "  return X,y"
      ],
      "execution_count": null,
      "outputs": []
    },
    {
      "cell_type": "code",
      "metadata": {
        "id": "A_DhjI9Z38QI"
      },
      "source": [
        "X,y = get_data(500)"
      ],
      "execution_count": null,
      "outputs": []
    },
    {
      "cell_type": "code",
      "metadata": {
        "colab": {
          "base_uri": "https://localhost:8080/",
          "height": 295
        },
        "id": "EEdCn_JI3jnj",
        "outputId": "bd7246a4-9365-48e5-f47b-fc487324f952"
      },
      "source": [
        "fig, ax = plt.subplots()\n",
        "plt.title('Raw Data')\n",
        "ax.plot(X, y, \"b.\") \n",
        "ax.axis(axes)\n",
        "ax.set_xlabel(\"X\")\n",
        "ax.set_ylabel(\"y\")\n",
        "plt.show()"
      ],
      "execution_count": null,
      "outputs": [
        {
          "output_type": "display_data",
          "data": {
            "image/png": "[encoded data removed]",
            "text/plain": [
              "<Figure size 432x288 with 1 Axes>"
            ]
          },
          "metadata": {
            "tags": [],
            "needs_background": "light"
          }
        }
      ]
    },
    {
      "cell_type": "markdown",
      "metadata": {
        "id": "YdhCqeeh-TMn"
      },
      "source": [
        "#Train Linear Model"
      ]
    },
    {
      "cell_type": "code",
      "metadata": {
        "id": "h95Kmfzyw-ja"
      },
      "source": [
        "from sklearn.model_selection import train_test_split\n",
        "\n",
        "X_train, X_test, y_train, y_test = train_test_split(X, y, test_size=0.20, random_state=42)"
      ],
      "execution_count": null,
      "outputs": []
    },
    {
      "cell_type": "code",
      "metadata": {
        "colab": {
          "base_uri": "https://localhost:8080/"
        },
        "id": "95P4fs2esk5K",
        "outputId": "602e831f-9be7-4bc8-ff0d-7266bf554177"
      },
      "source": [
        "from sklearn.linear_model import LinearRegression\n",
        "\n",
        "lin_reg = LinearRegression() \n",
        "lin_reg.fit(X_train, y_train)"
      ],
      "execution_count": null,
      "outputs": [
        {
          "output_type": "execute_result",
          "data": {
            "text/plain": [
              "LinearRegression(copy_X=True, fit_intercept=True, n_jobs=None, normalize=False)"
            ]
          },
          "metadata": {
            "tags": []
          },
          "execution_count": 29
        }
      ]
    },
    {
      "cell_type": "code",
      "metadata": {
        "colab": {
          "base_uri": "https://localhost:8080/"
        },
        "id": "ThtsONLCxFtm",
        "outputId": "d61cee95-c759-4ef6-ccd0-05fa3d48c806"
      },
      "source": [
        "from sklearn.metrics import mean_squared_error \n",
        "\n",
        "y_test_prediction = lin_reg.predict(X_test)\n",
        "lin_mse_test = mean_squared_error(y_test, y_test_prediction)\n",
        "\n",
        "lin_mse_test"
      ],
      "execution_count": null,
      "outputs": [
        {
          "output_type": "execute_result",
          "data": {
            "text/plain": [
              "0.6808472606336224"
            ]
          },
          "metadata": {
            "tags": []
          },
          "execution_count": 30
        }
      ]
    },
    {
      "cell_type": "code",
      "metadata": {
        "colab": {
          "base_uri": "https://localhost:8080/",
          "height": 295
        },
        "id": "BGKdwXZoxvFW",
        "outputId": "898f743f-c310-4591-8f35-614d215bd0b3"
      },
      "source": [
        "fig, ax = plt.subplots()\n",
        "plt.title('Prediction Linear Model')\n",
        "plt.axis(axes)\n",
        "\n",
        "ax.plot(X_test, y_test_prediction, \"r*\", label = 'Prediction') \n",
        "ax.plot(X_test, y_test, \"b.\", label = 'Test Data') \n",
        "ax.axis(axes)\n",
        "ax.set_xlabel(\"X\")\n",
        "ax.set_ylabel(\"y\")\n",
        "\n",
        "plt.legend(loc=\"upper left\", fontsize=8)\n",
        "plt.show()"
      ],
      "execution_count": null,
      "outputs": [
        {
          "output_type": "display_data",
          "data": {
            "image/png": "[encoded data removed]",
            "text/plain": [
              "<Figure size 432x288 with 1 Axes>"
            ]
          },
          "metadata": {
            "tags": [],
            "needs_background": "light"
          }
        }
      ]
    },
    {
      "cell_type": "markdown",
      "metadata": {
        "id": "V50Itt1o-Vu1"
      },
      "source": [
        "#Train Polynomial Model"
      ]
    },
    {
      "cell_type": "code",
      "metadata": {
        "id": "_gWJkuaCugdq"
      },
      "source": [
        "from sklearn.preprocessing import PolynomialFeatures\n",
        "\n",
        "degree = 8\n",
        "pl = PolynomialFeatures(degree = degree)\n",
        "\n",
        "X_train_p = pl.fit_transform(X_train)\n",
        "X_test_p = pl.fit_transform(X_test)"
      ],
      "execution_count": null,
      "outputs": []
    },
    {
      "cell_type": "code",
      "metadata": {
        "colab": {
          "base_uri": "https://localhost:8080/"
        },
        "id": "Ss1Xfsgw0pHi",
        "outputId": "a6a1d127-e9d4-46c8-b892-ddcb535dd191"
      },
      "source": [
        "print('Number of features X = {} Number of features X_poly = {}'.format(X_train.shape[1], X_train_p.shape[1]))"
      ],
      "execution_count": null,
      "outputs": [
        {
          "output_type": "stream",
          "text": [
            "Number of features X = 1 Number of features X_poly = 9\n"
          ],
          "name": "stdout"
        }
      ]
    },
    {
      "cell_type": "code",
      "metadata": {
        "colab": {
          "base_uri": "https://localhost:8080/"
        },
        "id": "dZG8wc8YyGHT",
        "outputId": "598bc7fa-bbd9-4648-d5f0-0a5d7dc8c1bc"
      },
      "source": [
        "poly_reg = LinearRegression() \n",
        "poly_reg.fit(X_train_p, y_train)"
      ],
      "execution_count": null,
      "outputs": [
        {
          "output_type": "execute_result",
          "data": {
            "text/plain": [
              "LinearRegression(copy_X=True, fit_intercept=True, n_jobs=None, normalize=False)"
            ]
          },
          "metadata": {
            "tags": []
          },
          "execution_count": 34
        }
      ]
    },
    {
      "cell_type": "code",
      "metadata": {
        "id": "zrg-sADGz7OK"
      },
      "source": [
        "y_prediction_p = poly_reg.predict(X_train_p)\n",
        "poly_mse_train = mean_squared_error(y_train, y_prediction_p)"
      ],
      "execution_count": null,
      "outputs": []
    },
    {
      "cell_type": "code",
      "metadata": {
        "id": "z-3J62sUz-I7"
      },
      "source": [
        "y_test_prediction_p = poly_reg.predict(X_test_p)\n",
        "poly_mse_test = mean_squared_error(y_test, y_test_prediction_p)"
      ],
      "execution_count": null,
      "outputs": []
    },
    {
      "cell_type": "code",
      "metadata": {
        "colab": {
          "base_uri": "https://localhost:8080/"
        },
        "id": "oNW4hPXr0F4l",
        "outputId": "44a5374c-43c7-4c26-c8fb-8b4e4a8d1774"
      },
      "source": [
        "print(\"MSE linear: {} MSE polynomial: {} %difference {}\".format(lin_mse_test, poly_mse_test, 1- poly_mse_test / lin_mse_test))"
      ],
      "execution_count": null,
      "outputs": [
        {
          "output_type": "stream",
          "text": [
            "MSE linear: 0.6808472606336224 MSE polynomial: 0.3598539136348059 %difference 0.4714616119628474\n"
          ],
          "name": "stdout"
        }
      ]
    },
    {
      "cell_type": "code",
      "metadata": {
        "colab": {
          "base_uri": "https://localhost:8080/",
          "height": 295
        },
        "id": "hT8qas5W0PPS",
        "outputId": "db239e78-8377-4073-9765-09ef5a8cf9b6"
      },
      "source": [
        "fig, ax = plt.subplots()\n",
        "plt.title('Prediction Polynomial Model (degree ' + str(degree) + ')')\n",
        "plt.axis(axes)\n",
        "\n",
        "ax.plot(X_test, y_test_prediction_p, \"r*\", label = 'Prediction') \n",
        "ax.plot(X_test, y_test, \"b.\", label = 'Test Data') \n",
        "ax.axis(axes)\n",
        "ax.set_xlabel(\"X\")\n",
        "ax.set_ylabel(\"y\")\n",
        "\n",
        "plt.legend(loc=\"upper left\", fontsize=8)\n",
        "plt.show()"
      ],
      "execution_count": null,
      "outputs": [
        {
          "output_type": "display_data",
          "data": {
            "image/png": "[encoded data removed]",
            "text/plain": [
              "<Figure size 432x288 with 1 Axes>"
            ]
          },
          "metadata": {
            "tags": [],
            "needs_background": "light"
          }
        }
      ]
    },
    {
      "cell_type": "markdown",
      "metadata": {
        "id": "h0UIvUhL-JOq"
      },
      "source": [
        "#Variance Analysis"
      ]
    },
    {
      "cell_type": "code",
      "metadata": {
        "id": "bsi2el3J7IJe"
      },
      "source": [
        "percent_diff = []\n",
        "mse_train = []\n",
        "mse_test = []\n",
        "iter = 17\n",
        "for d in range(iter):\n",
        "\n",
        "  pl = PolynomialFeatures(degree = d)\n",
        "\n",
        "  X_train_p = pl.fit_transform(X_train)\n",
        "  X_test_p = pl.fit_transform(X_test)\n",
        "\n",
        "  lin_reg = LinearRegression() \n",
        "  lin_reg.fit(X_train_p, y_train)\n",
        "\n",
        "  y_prediction_p = lin_reg.predict(X_train_p)\n",
        "  lin_mse_train_p = mean_squared_error(y_train, y_prediction_p)\n",
        "\n",
        "  y_test_prediction_p = lin_reg.predict(X_test_p)\n",
        "  lin_mse_test_p = mean_squared_error(y_test, y_test_prediction_p)\n",
        "\n",
        "  mse_train.append(lin_mse_train_p)\n",
        "  mse_test.append(lin_mse_test_p)  \n",
        "  percent_diff.append(1- lin_mse_test_p / lin_mse_train_p)"
      ],
      "execution_count": null,
      "outputs": []
    },
    {
      "cell_type": "code",
      "metadata": {
        "colab": {
          "base_uri": "https://localhost:8080/",
          "height": 295
        },
        "id": "lb8ImWWo78-f",
        "outputId": "f6bf2cd6-aa39-4a2b-e38e-eadfaf801e5e"
      },
      "source": [
        "fig, ax = plt.subplots()\n",
        "ax.plot(np.linspace(1,iter,num=iter), mse_train, \"b-*\", label = 'MSE Train')\n",
        "ax.plot(np.linspace(1,iter,num=iter), mse_test, \"y-*\", label = 'MSE Test')  \n",
        "ax.set_xlabel(\"Polinomial Degree\")\n",
        "ax.set_ylabel(\"MSE\")\n",
        "plt.legend(loc=\"upper left\", fontsize=8)\n",
        "plt.title('Model Variance')\n",
        "plt.show()"
      ],
      "execution_count": null,
      "outputs": [
        {
          "output_type": "display_data",
          "data": {
            "image/png": "[encoded data removed]",
            "text/plain": [
              "<Figure size 432x288 with 1 Axes>"
            ]
          },
          "metadata": {
            "tags": [],
            "needs_background": "light"
          }
        }
      ]
    }
  ]
}